{
 "metadata": {
  "name": "sample"
 },
  "nbformat": 3,
   "worksheets": [
  {
     "cells": [
    {
     "cell_type": "markdown",
     "metadata": {},
     "source": [
      "## Opencv Python repo"
     ]
    },
        {
     "cell_type": "raw",
     "metadata": {},
     "source": [
      "testing :-) webfkjwbefkjwbkjrbgkejrbgkejbgkejbgkejtbgktbgietbgibxivbiduvbiervbeirvbeiurvberve"
     ]
    },
    {
     "cell_type": "raw",
     "metadata": {},
     "source": [
      "Write a function, which takes in the limit and generate all the  of the last fibonacci numbers till that limit."
     ]
    },
    {
     "cell_type": "code",
     "collapsed": false,
     "input": [
      "print \" hello \" \n",
 	  "print \" hi \" "
     ],
     "language": "python",
     "metadata": {},
     "outputs": [
      {
       "output_type": "stream",
       "stream": "stdout",
       "text": [
        " hello\n",
        " hi\n"
       ]
      }
     ],
     "prompt_number": 1
    },
       ],
   "metadata": {}
  }
 ]
}