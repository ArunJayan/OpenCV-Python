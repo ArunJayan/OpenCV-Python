{
 "metadata": {
  "name": ""
 },
 "nbformat": 3,
 "nbformat_minor": 0,
 "worksheets": [
  {
   "cells": [
    {
     "cell_type": "markdown",
     "metadata": {},
     "source": [
      "## Example Fibonacci Program"
     ]
    },
    {
     "cell_type": "raw",
     "metadata": {},
     "source": [
      "Write a function, which takes in the limit and generate all the  of the last fibonacci numbers till that limit."
     ]
    },
    {
     "cell_type": "code",
     "collapsed": false,
     "input": [
      "print  \"Hello\"
     ],
     "language": "python",
     "metadata": {},
     "outputs": [
      {
       "output_type": "stream",
       "stream": "stdout",
       "text": [
        "[1, 1, 2, 3, 5, 8, 13, 21, 34, 55, 89, 144, 233, 377, 610, 987]\n"
       ]
      }
     ],
     "prompt_number": 1
    }
   ],
   "metadata": {}
  }
 ]
}