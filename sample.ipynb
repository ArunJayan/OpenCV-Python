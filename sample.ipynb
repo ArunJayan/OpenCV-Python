{
 "metadata": {
  "name": ""
 },
 "nbformat": 3,
 "nbformat_minor": 0,
 "worksheets": [
  {
   "cells": [
    {
     "cell_type": "markdown",
     "metadata": {},
     "source": [
      "## Example Fibonacci Program"
     ]
    },
    {
     "cell_type": "raw",
     "metadata": {},
     "source": [
      "Write a function, which takes in the limit and generate all the  of the last fibonacci numbers till that limit."
     ]
    },
    {
     "cell_type": "code",
     "collapsed": false,
     "input": [
      "def fibonacci(limit):\n",
      "\t\"\"\"\n",
      "\t>>> fibonacci(1000)\n",
      "\t[1, 1, 2, 3, 5, 8, 13, 21, 34, 55, 89, 144, 233, 377, 610, 987]\n",
      "\t\"\"\"\n",
      "\tfib_series = []\n",
      "\ta, b = 0, 1\n",
      "\twhile b < limit:\n",
      "\t\tfib_series.append(b)\n",
      "\t\ta, b = b, a+b\n",
      "\treturn fib_series\n",
      "\n",
      "fib_list = fibonacci(1000)\n",
      "print fib_list\n"
     ],
     "language": "python",
     "metadata": {},
     "outputs": [
      {
       "output_type": "stream",
       "stream": "stdout",
       "text": [
        "[1, 1, 2, 3, 5, 8, 13, 21, 34, 55, 89, 144, 233, 377, 610, 987]\n"
       ]
      }
     ],
     "prompt_number": 1
    },
    {
     "cell_type": "markdown",
     "metadata": {},
     "source": [
      "\n",
      "\n",
      "#### _Go back to the blog post:_ [http://infiniteloop.in/blog/easiest-way-to-learn-python-part-3/](http://infiniteloop.in/blog/easiest-way-to-learn-python-part-3/)"
     ]
    }
   ],
   "metadata": {}
  }
 ]
}